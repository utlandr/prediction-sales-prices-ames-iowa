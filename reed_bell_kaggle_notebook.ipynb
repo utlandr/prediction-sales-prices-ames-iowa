{
 "cells": [
  {
   "cell_type": "markdown",
   "metadata": {},
   "source": [
    "# ENGSCI 762 Kaggle Assignment: Prediction Sales Prices\n",
    "## Reed Bell | rbel068 | rbel068@aucklanduni.ac.\n",
    "\n",
    "### I. Frame the problem and look a the big picture\n",
    "\n",
    "#### Kaggle Overview Summary (from [here][1])\n",
    "This is a data science project that aims to apply the conventional 'Data Science Process' to a dataset. I this case, the dataset consists of 79 explanatory variables detailing resendential homes. Through the data science process, we hope to implement a machine learning algorithm to this dataset to predict the final price of the home.\n",
    "\n",
    "**Objective** - Predict the final house price of residential properties located in Ames, Iowa.\n",
    "\n",
    "**How will the solution be used?** - To publically display how much I suck at data science to the entire Kaggle community. Accuracy comes in the form of a RMSE between the logarithm of the predicted value and the logarithm of the observed sales price. \n",
    "\n",
    "**What the current solutions/workarounds** - See the [submitted kernals][2]\n",
    "\n",
    "**How should this problem be framed?** - Because labels are supplied to us in testing. We will apply a *supervised learning model*.  \n",
    "\n",
    "[1]: https://www.kaggle.com/c/house-prices-advanced-regression-techniques\n",
    "[2]: https://www.kaggle.com/c/house-prices-advanced-regression-techniques/kernels\n"
   ]
  },
  {
   "cell_type": "code",
   "execution_count": null,
   "metadata": {
    "collapsed": true
   },
   "outputs": [],
   "source": []
  }
 ],
 "metadata": {
  "kernelspec": {
   "display_name": "Python 3",
   "language": "python",
   "name": "python3"
  },
  "language_info": {
   "codemirror_mode": {
    "name": "ipython",
    "version": 3
   },
   "file_extension": ".py",
   "mimetype": "text/x-python",
   "name": "python",
   "nbconvert_exporter": "python",
   "pygments_lexer": "ipython3",
   "version": "3.6.6"
  }
 },
 "nbformat": 4,
 "nbformat_minor": 2
}
